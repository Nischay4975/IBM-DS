{
 "cells": [
  {
   "cell_type": "markdown",
   "id": "2bc790d0-0a5b-4b82-8edd-8a1cc008c9d7",
   "metadata": {},
   "source": [
    "# Data Science Tools and Ecosystem #"
   ]
  },
  {
   "cell_type": "markdown",
   "id": "2d4bebc5-cf02-41b1-8635-e1f31f4e67f7",
   "metadata": {},
   "source": [
    "In this notebook, Data Science Tools and Ecosystem are summarized."
   ]
  },
  {
   "cell_type": "markdown",
   "id": "ebfa57da-ca2f-442b-af82-70415a8e10fc",
   "metadata": {},
   "source": [
    "**Objectives**\n",
    "* Listing Different categories raw data must pass through in data science\n",
    "* Listing Different programming languages that are popular in data science\n",
    "* Listing popular models used in data science under each language\n",
    "* Listing popular development environment tools used in data science"
   ]
  },
  {
   "cell_type": "markdown",
   "id": "da2a1890-e0b9-4f09-bfab-5dc3aa1525a2",
   "metadata": {},
   "source": [
    "Some of the popular languages that Data Scientists use are:\n",
    "1. Python\n",
    "2. R\n",
    "3. Scala"
   ]
  },
  {
   "cell_type": "markdown",
   "id": "e5e4dd44-4591-45de-b643-9f7cc3aa8420",
   "metadata": {},
   "source": [
    "Some of the commonly used libraries used by Data Scientists include:\n",
    "1. Pandas\n",
    "2. Plotly\n",
    "3. Numpy"
   ]
  },
  {
   "cell_type": "markdown",
   "id": "7cc09fc0-9b7a-4263-a209-b4ea3bfb50bb",
   "metadata": {},
   "source": [
    "| Data Science Tools |\n",
    "|--------------------|\n",
    "| Jupyter Notebook  |\n",
    "| RStudio          |\n",
    "| Tensor Flow  |"
   ]
  },
  {
   "cell_type": "markdown",
   "id": "3f7ca150-162b-48a1-8990-d9c634280dc2",
   "metadata": {},
   "source": [
    "### Below are a few examples of evaluating arithmetic expressions in Python. ###"
   ]
  },
  {
   "cell_type": "code",
   "execution_count": 40,
   "id": "4536f5d0-eadb-4566-9404-118af5b9cedd",
   "metadata": {},
   "outputs": [
    {
     "data": {
      "text/plain": [
       "17"
      ]
     },
     "execution_count": 40,
     "metadata": {},
     "output_type": "execute_result"
    }
   ],
   "source": [
    "#This a simple arithmetic expression to mutiply then add integers\n",
    "(3*4)+5"
   ]
  },
  {
   "cell_type": "code",
   "execution_count": 41,
   "id": "069a877d-59a6-4065-bb3f-f068786f9516",
   "metadata": {},
   "outputs": [
    {
     "data": {
      "text/plain": [
       "3.3333333333333335"
      ]
     },
     "execution_count": 41,
     "metadata": {},
     "output_type": "execute_result"
    }
   ],
   "source": [
    "# This will convert 200 minutes to hours by diving by 60\n",
    "200/60"
   ]
  },
  {
   "cell_type": "markdown",
   "id": "6695e3a3-0d89-42fa-85a9-7743a8df8fff",
   "metadata": {},
   "source": [
    "## Author ##\n",
    "Nischay Bagusetty"
   ]
  },
  {
   "cell_type": "code",
   "execution_count": null,
   "id": "87a4566d-9b0c-4e37-912d-b90b40a73fc4",
   "metadata": {},
   "outputs": [],
   "source": []
  }
 ],
 "metadata": {
  "kernelspec": {
   "display_name": "Python [conda env:base] *",
   "language": "python",
   "name": "conda-base-py"
  },
  "language_info": {
   "codemirror_mode": {
    "name": "ipython",
    "version": 3
   },
   "file_extension": ".py",
   "mimetype": "text/x-python",
   "name": "python",
   "nbconvert_exporter": "python",
   "pygments_lexer": "ipython3",
   "version": "3.12.7"
  }
 },
 "nbformat": 4,
 "nbformat_minor": 5
}
